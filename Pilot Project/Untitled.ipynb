{
 "cells": [
  {
   "cell_type": "code",
   "execution_count": 1,
   "id": "2c4454ad",
   "metadata": {},
   "outputs": [],
   "source": [
    "import numpy as np\n",
    "import pandas as pd\n",
    "import scipy.stats as stats\n",
    "import matplotlib.pyplot as plt\n",
    "import math\n",
    "import warnings\n",
    "\n",
    "warnings.filterwarnings('ignore')\n",
    "%matplotlib inline"
   ]
  },
  {
   "cell_type": "code",
   "execution_count": 4,
   "id": "2c91743e",
   "metadata": {},
   "outputs": [
    {
     "data": {
      "image/png": "[encoded data removed]",
      "text/plain": [
       "<Figure size 432x288 with 1 Axes>"
      ]
     },
     "metadata": {
      "needs_background": "light"
     },
     "output_type": "display_data"
    }
   ],
   "source": [
    "# 평균\n",
    "mu = 0\n",
    "# 분산\n",
    "variance = 1\n",
    "# sigma (Standard Deviation 계산)\n",
    "sigma = math.sqrt(variance)\n",
    "x = np.linspace(mu - 3*sigma, mu + 3*sigma, 100)\n",
    "\n",
    "# 랜덤한 10개의 데이터를 삭제합니다.\n",
    "idx = np.random.choice(len(x), size=50)\n",
    "x[idx] = np.nan\n",
    "\n",
    "# 시각화\n",
    "plt.plot(x, stats.norm.pdf(x, mu, sigma))\n",
    "plt.show()"
   ]
  },
  {
   "cell_type": "code",
   "execution_count": 5,
   "id": "1c95eca7",
   "metadata": {},
   "outputs": [
    {
     "data": {
      "text/plain": [
       "0    -3.000000\n",
       "1          NaN\n",
       "2          NaN\n",
       "3          NaN\n",
       "4          NaN\n",
       "5    -2.696970\n",
       "6    -2.636364\n",
       "7    -2.575758\n",
       "8          NaN\n",
       "9          NaN\n",
       "10         NaN\n",
       "11   -2.333333\n",
       "12   -2.272727\n",
       "13         NaN\n",
       "14         NaN\n",
       "15   -2.090909\n",
       "16   -2.030303\n",
       "17         NaN\n",
       "18   -1.909091\n",
       "19   -1.848485\n",
       "dtype: float64"
      ]
     },
     "execution_count": 5,
     "metadata": {},
     "output_type": "execute_result"
    }
   ],
   "source": [
    "pd.Series(x).head(20)"
   ]
  },
  {
   "cell_type": "code",
   "execution_count": 6,
   "id": "5c9d384f",
   "metadata": {},
   "outputs": [],
   "source": [
    "x_inter = pd.Series(x).interpolate()"
   ]
  },
  {
   "cell_type": "code",
   "execution_count": 7,
   "id": "1306a4d8",
   "metadata": {},
   "outputs": [
    {
     "data": {
      "text/plain": [
       "0    -3.000000\n",
       "1    -2.939394\n",
       "2    -2.878788\n",
       "3    -2.818182\n",
       "4    -2.757576\n",
       "5    -2.696970\n",
       "6    -2.636364\n",
       "7    -2.575758\n",
       "8    -2.515152\n",
       "9    -2.454545\n",
       "10   -2.393939\n",
       "11   -2.333333\n",
       "12   -2.272727\n",
       "13   -2.212121\n",
       "14   -2.151515\n",
       "15   -2.090909\n",
       "16   -2.030303\n",
       "17   -1.969697\n",
       "18   -1.909091\n",
       "19   -1.848485\n",
       "dtype: float64"
      ]
     },
     "execution_count": 7,
     "metadata": {},
     "output_type": "execute_result"
    }
   ],
   "source": [
    "x_inter.head(20)"
   ]
  },
  {
   "cell_type": "code",
   "execution_count": 8,
   "id": "b1d01a29",
   "metadata": {},
   "outputs": [
    {
     "data": {
      "image/png": "[encoded data removed]",
      "text/plain": [
       "<Figure size 432x288 with 1 Axes>"
      ]
     },
     "metadata": {
      "needs_background": "light"
     },
     "output_type": "display_data"
    }
   ],
   "source": [
    "plt.plot(x_inter, stats.norm.pdf(x_inter, mu, sigma))\n",
    "plt.show()"
   ]
  },
  {
   "cell_type": "code",
   "execution_count": null,
   "id": "ec08bc5b",
   "metadata": {},
   "outputs": [],
   "source": []
  },
  {
   "cell_type": "code",
   "execution_count": null,
   "id": "01da6d3b",
   "metadata": {},
   "outputs": [],
   "source": []
  },
  {
   "cell_type": "code",
   "execution_count": null,
   "id": "5d7f8ac7",
   "metadata": {},
   "outputs": [],
   "source": []
  },
  {
   "cell_type": "code",
   "execution_count": null,
   "id": "4ba7d844",
   "metadata": {},
   "outputs": [],
   "source": []
  },
  {
   "cell_type": "code",
   "execution_count": null,
   "id": "6e833b51",
   "metadata": {},
   "outputs": [],
   "source": []
  },
  {
   "cell_type": "code",
   "execution_count": null,
   "id": "f93fd6a9",
   "metadata": {},
   "outputs": [],
   "source": []
  },
  {
   "cell_type": "code",
   "execution_count": null,
   "id": "1fc9acf5",
   "metadata": {},
   "outputs": [],
   "source": []
  }
 ],
 "metadata": {
  "kernelspec": {
   "display_name": "Python 3 (ipykernel)",
   "language": "python",
   "name": "python3"
  },
  "language_info": {
   "codemirror_mode": {
    "name": "ipython",
    "version": 3
   },
   "file_extension": ".py",
   "mimetype": "text/x-python",
   "name": "python",
   "nbconvert_exporter": "python",
   "pygments_lexer": "ipython3",
   "version": "3.9.12"
  }
 },
 "nbformat": 4,
 "nbformat_minor": 5
}
