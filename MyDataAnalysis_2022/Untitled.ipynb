{
 "cells": [
  {
   "cell_type": "code",
   "execution_count": null,
   "id": "65a3fa77",
   "metadata": {},
   "outputs": [],
   "source": [
    "import pandas as pd\n",
    "import seaborn as sns\n",
    "import numpy as np"
   ]
  },
  {
   "cell_type": "code",
   "execution_count": null,
   "id": "eb377a45",
   "metadata": {},
   "outputs": [],
   "source": []
  },
  {
   "cell_type": "code",
   "execution_count": null,
   "id": "8118d88b",
   "metadata": {},
   "outputs": [],
   "source": [
    "tenps = list(train['median_income'].quantile([.1,.2,.3,.4,.5,.6,.7,.9,1]))"
   ]
  },
  {
   "cell_type": "code",
   "execution_count": null,
   "id": "eb9a4773",
   "metadata": {},
   "outputs": [],
   "source": [
    "for i in range(10):\n",
    "    if i != 0:\n",
    "        train.loc[(train['median_income']>tenps[i-1]) & (train['median_income']<=tenps[i]), train['median_income_tenplevel']] = (i+1)\n",
    "    else:\n",
    "        train.loc[train['median_income']<=tenps[i], 'median_income_tenplevel'] = (i+1)"
   ]
  },
  {
   "cell_type": "code",
   "execution_count": null,
   "id": "d349fc6d",
   "metadata": {},
   "outputs": [],
   "source": []
  },
  {
   "cell_type": "code",
   "execution_count": null,
   "id": "e6d05253",
   "metadata": {},
   "outputs": [],
   "source": []
  },
  {
   "cell_type": "code",
   "execution_count": null,
   "id": "62dcefac",
   "metadata": {},
   "outputs": [],
   "source": []
  },
  {
   "cell_type": "code",
   "execution_count": null,
   "id": "5e6aafc6",
   "metadata": {},
   "outputs": [],
   "source": []
  }
 ],
 "metadata": {
  "kernelspec": {
   "display_name": "Python 3 (ipykernel)",
   "language": "python",
   "name": "python3"
  },
  "language_info": {
   "codemirror_mode": {
    "name": "ipython",
    "version": 3
   },
   "file_extension": ".py",
   "mimetype": "text/x-python",
   "name": "python",
   "nbconvert_exporter": "python",
   "pygments_lexer": "ipython3",
   "version": "3.9.12"
  }
 },
 "nbformat": 4,
 "nbformat_minor": 5
}
