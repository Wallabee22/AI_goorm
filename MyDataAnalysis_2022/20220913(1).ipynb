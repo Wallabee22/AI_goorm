{
 "cells": [
  {
   "cell_type": "code",
   "execution_count": 1,
   "metadata": {
    "_cell_guid": "b1076dfc-b9ad-4769-8c92-a6c4dae69d19",
    "_uuid": "8f2839f25d086af736a60e9eeb907d3b93b6e0e5",
    "execution": {
     "iopub.execute_input": "2022-09-13T02:29:50.323708Z",
     "iopub.status.busy": "2022-09-13T02:29:50.323047Z",
     "iopub.status.idle": "2022-09-13T02:29:50.353993Z",
     "shell.execute_reply": "2022-09-13T02:29:50.353292Z",
     "shell.execute_reply.started": "2022-09-13T02:29:50.323620Z"
    }
   },
   "outputs": [],
   "source": [
    "import numpy as np # linear algebra\n",
    "import pandas as pd # data processing, CSV file I/O (e.g. pd.read_csv)\n",
    "\n",
    "# Input data files are available in the read-only \"../input/\" directory\n",
    "# For example, running this (by clicking run or pressing Shift+Enter) will list all files under the input directory\n",
    "\n",
    "import os\n",
    "for dirname, _, filenames in os.walk('/kaggle/input'):\n",
    "    for filename in filenames:\n",
    "        print(os.path.join(dirname, filename))"
   ]
  },
  {
   "cell_type": "code",
   "execution_count": 5,
   "metadata": {
    "execution": {
     "iopub.execute_input": "2022-09-13T02:39:42.790451Z",
     "iopub.status.busy": "2022-09-13T02:39:42.790014Z",
     "iopub.status.idle": "2022-09-13T02:39:42.810826Z",
     "shell.execute_reply": "2022-09-13T02:39:42.810119Z",
     "shell.execute_reply.started": "2022-09-13T02:39:42.790412Z"
    }
   },
   "outputs": [
    {
     "name": "stdout",
     "output_type": "stream",
     "text": [
      "<class 'pandas.core.frame.DataFrame'>\n",
      "RangeIndex: 418 entries, 0 to 417\n",
      "Data columns (total 11 columns):\n",
      " #   Column       Non-Null Count  Dtype  \n",
      "---  ------       --------------  -----  \n",
      " 0   PassengerId  418 non-null    int64  \n",
      " 1   Pclass       418 non-null    int64  \n",
      " 2   Name         418 non-null    object \n",
      " 3   Sex          418 non-null    object \n",
      " 4   Age          332 non-null    float64\n",
      " 5   SibSp        418 non-null    int64  \n",
      " 6   Parch        418 non-null    int64  \n",
      " 7   Ticket       418 non-null    object \n",
      " 8   Fare         417 non-null    float64\n",
      " 9   Cabin        91 non-null     object \n",
      " 10  Embarked     418 non-null    object \n",
      "dtypes: float64(2), int64(4), object(5)\n",
      "memory usage: 36.0+ KB\n"
     ]
    }
   ],
   "source": [
    "df = pd.read_csv(\"./test.csv\")\n",
    "df.info()"
   ]
  },
  {
   "cell_type": "code",
   "execution_count": null,
   "metadata": {
    "execution": {
     "iopub.execute_input": "2022-09-13T02:38:39.566134Z",
     "iopub.status.busy": "2022-09-13T02:38:39.565762Z",
     "iopub.status.idle": "2022-09-13T02:38:39.572642Z",
     "shell.execute_reply": "2022-09-13T02:38:39.571605Z",
     "shell.execute_reply.started": "2022-09-13T02:38:39.566102Z"
    }
   },
   "outputs": [],
   "source": [
    "import matplotlib.pyplot as plt\n",
    "import matplotlib\n",
    "\n",
    "print(matplotlib.__version__)"
   ]
  },
  {
   "cell_type": "code",
   "execution_count": null,
   "metadata": {
    "execution": {
     "iopub.execute_input": "2022-09-13T02:39:57.076899Z",
     "iopub.status.busy": "2022-09-13T02:39:57.076346Z",
     "iopub.status.idle": "2022-09-13T02:39:57.084574Z",
     "shell.execute_reply": "2022-09-13T02:39:57.083402Z",
     "shell.execute_reply.started": "2022-09-13T02:39:57.076872Z"
    }
   },
   "outputs": [],
   "source": [
    "df['Pclass']"
   ]
  },
  {
   "cell_type": "code",
   "execution_count": null,
   "metadata": {
    "execution": {
     "iopub.execute_input": "2022-09-13T02:41:01.705513Z",
     "iopub.status.busy": "2022-09-13T02:41:01.705168Z",
     "iopub.status.idle": "2022-09-13T02:41:01.859797Z",
     "shell.execute_reply": "2022-09-13T02:41:01.858611Z",
     "shell.execute_reply.started": "2022-09-13T02:41:01.705484Z"
    }
   },
   "outputs": [],
   "source": [
    "plt.plot(df['Pclass'], 'o')"
   ]
  },
  {
   "cell_type": "code",
   "execution_count": null,
   "metadata": {
    "execution": {
     "iopub.execute_input": "2022-09-13T02:50:40.458261Z",
     "iopub.status.busy": "2022-09-13T02:50:40.457871Z",
     "iopub.status.idle": "2022-09-13T02:50:40.605607Z",
     "shell.execute_reply": "2022-09-13T02:50:40.603348Z",
     "shell.execute_reply.started": "2022-09-13T02:50:40.458229Z"
    }
   },
   "outputs": [],
   "source": [
    "plt.figure(figsize = (10,10))\n",
    "plt.plot(df['Parch'], 'o--', ms = 15, mec = 'r', mfc = 'b', lw = 10, )"
   ]
  },
  {
   "cell_type": "code",
   "execution_count": null,
   "metadata": {},
   "outputs": [],
   "source": [
    "plt.plot(df['Age'], '*y--')"
   ]
  },
  {
   "cell_type": "code",
   "execution_count": null,
   "metadata": {
    "execution": {
     "iopub.execute_input": "2022-09-13T03:16:30.691529Z",
     "iopub.status.busy": "2022-09-13T03:16:30.691167Z",
     "iopub.status.idle": "2022-09-13T03:16:31.166389Z",
     "shell.execute_reply": "2022-09-13T03:16:31.165056Z",
     "shell.execute_reply.started": "2022-09-13T03:16:30.691502Z"
    }
   },
   "outputs": [],
   "source": [
    "plt.figure(figsize = (10,10))\n",
    "\n",
    "plt.subplot(2,2,1)\n",
    "plt.hist(df[\"Age\"], label='Age')\n",
    "plt.legend(loc=0)\n",
    "\n",
    "plt.subplot(2,2,2)\n",
    "plt.hist(df[\"Sex\"], label='Sex')\n",
    "plt.legend(loc=0)\n",
    "\n",
    "plt.subplot(2,2,3)\n",
    "plt.plot(df[\"Fare\"], 'o--r',label='Fare')\n",
    "plt.legend(loc=0)\n",
    "\n",
    "plt.subplot(2,2,4)\n",
    "plt.plot(df[\"SibSp\"], '*g',label='SibSp')\n",
    "plt.legend(loc=0)"
   ]
  },
  {
   "cell_type": "code",
   "execution_count": null,
   "metadata": {},
   "outputs": [],
   "source": [
    "fig,axs = plt.subplots(2,2, figsize=(10,10))\n",
    "axs[0,0]."
   ]
  },
  {
   "cell_type": "code",
   "execution_count": null,
   "metadata": {
    "execution": {
     "iopub.execute_input": "2022-09-13T03:17:35.507054Z",
     "iopub.status.busy": "2022-09-13T03:17:35.505978Z",
     "iopub.status.idle": "2022-09-13T03:17:35.658976Z",
     "shell.execute_reply": "2022-09-13T03:17:35.657973Z",
     "shell.execute_reply.started": "2022-09-13T03:17:35.507026Z"
    }
   },
   "outputs": [],
   "source": [
    "plt.figure(figsize = (10,10))\n",
    "plt.plot(df['Parch'], 'bo', ms= 10)"
   ]
  },
  {
   "cell_type": "code",
   "execution_count": null,
   "metadata": {},
   "outputs": [],
   "source": []
  },
  {
   "cell_type": "code",
   "execution_count": null,
   "metadata": {},
   "outputs": [],
   "source": []
  },
  {
   "cell_type": "code",
   "execution_count": null,
   "metadata": {},
   "outputs": [],
   "source": []
  },
  {
   "cell_type": "code",
   "execution_count": null,
   "metadata": {},
   "outputs": [],
   "source": []
  },
  {
   "cell_type": "code",
   "execution_count": null,
   "metadata": {},
   "outputs": [],
   "source": []
  },
  {
   "cell_type": "code",
   "execution_count": null,
   "metadata": {},
   "outputs": [],
   "source": []
  },
  {
   "cell_type": "code",
   "execution_count": null,
   "metadata": {},
   "outputs": [],
   "source": []
  },
  {
   "cell_type": "code",
   "execution_count": null,
   "metadata": {},
   "outputs": [],
   "source": []
  },
  {
   "cell_type": "code",
   "execution_count": null,
   "metadata": {},
   "outputs": [],
   "source": []
  }
 ],
 "metadata": {
  "kernelspec": {
   "display_name": "Python 3 (ipykernel)",
   "language": "python",
   "name": "python3"
  },
  "language_info": {
   "codemirror_mode": {
    "name": "ipython",
    "version": 3
   },
   "file_extension": ".py",
   "mimetype": "text/x-python",
   "name": "python",
   "nbconvert_exporter": "python",
   "pygments_lexer": "ipython3",
   "version": "3.9.12"
  }
 },
 "nbformat": 4,
 "nbformat_minor": 4
}
