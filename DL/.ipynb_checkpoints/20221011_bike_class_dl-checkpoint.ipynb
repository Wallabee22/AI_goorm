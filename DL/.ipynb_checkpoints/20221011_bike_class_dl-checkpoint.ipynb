{
 "cells": [
  {
   "cell_type": "markdown",
   "id": "7aaffcaa",
   "metadata": {},
   "source": [
    " # 바이크 셋 딥러닝 실습"
   ]
  },
  {
   "cell_type": "markdown",
   "id": "c0b30792",
   "metadata": {},
   "source": [
    " ### 딥러닝을 위해 파이썬 3.8 버전을 이용 (Jupyter Notebook 따로 실행 필요)"
   ]
  },
  {
   "cell_type": "code",
   "execution_count": 2,
   "id": "7060452e",
   "metadata": {},
   "outputs": [
    {
     "name": "stdout",
     "output_type": "stream",
     "text": [
      "3.8.13 (default, Mar 28 2022, 06:59:08) [MSC v.1916 64 bit (AMD64)]\n",
      "2.10.0\n",
      "2.10.0\n",
      "3.6.1\n",
      "0.12.0\n",
      "1.23.3\n",
      "1.1.2\n",
      "1.5.0\n"
     ]
    }
   ],
   "source": [
    "import sys\n",
    "import tensorflow as tf\n",
    "import keras\n",
    "import matplotlib as mpl\n",
    "import seaborn as sns\n",
    "import numpy as np\n",
    "import sklearn as sk\n",
    "import pandas as pd\n",
    "print(sys.version)\n",
    "print(tf.__version__)\n",
    "print(keras.__version__)\n",
    "print(mpl.__version__)\n",
    "print(sns.__version__)\n",
    "print(np.__version__)\n",
    "print(sk.__version__)\n",
    "print(pd.__version__)\n"
   ]
  },
  {
   "cell_type": "code",
   "execution_count": 5,
   "id": "16fc40d1",
   "metadata": {},
   "outputs": [
    {
     "data": {
      "text/plain": [
       "((10886, 19), (6493, 16), (6493, 2))"
      ]
     },
     "execution_count": 5,
     "metadata": {},
     "output_type": "execute_result"
    }
   ],
   "source": [
    "tr = pd.read_csv('bike_mod_tr.csv')\n",
    "test = pd.read_csv('bike_mod_test.csv')\n",
    "sub = pd.read_csv('sampleSubmission.csv')\n",
    "\n",
    "tr.shape, test.shape, sub.shape"
   ]
  },
  {
   "cell_type": "markdown",
   "id": "c8a07568",
   "metadata": {},
   "source": [
    "### 데이터 탐색"
   ]
  },
  {
   "cell_type": "code",
   "execution_count": 8,
   "id": "c7137785",
   "metadata": {},
   "outputs": [
    {
     "data": {
      "text/plain": [
       "Index(['datetime', 'season', 'holiday', 'workingday', 'weather', 'temp',\n",
       "       'atemp', 'humidity', 'windspeed', 'casual', 'registered', 'count',\n",
       "       'year', 'month', 'day', 'hour', 'minute', 'second', 'dayofweek'],\n",
       "      dtype='object')"
      ]
     },
     "execution_count": 8,
     "metadata": {},
     "output_type": "execute_result"
    }
   ],
   "source": [
    "tr.columns"
   ]
  },
  {
   "cell_type": "code",
   "execution_count": 9,
   "id": "2234fe53",
   "metadata": {},
   "outputs": [
    {
     "data": {
      "text/plain": [
       "Index(['datetime', 'season', 'holiday', 'workingday', 'weather', 'temp',\n",
       "       'atemp', 'humidity', 'windspeed', 'year', 'month', 'day', 'dayofweek',\n",
       "       'hour', 'minute', 'second'],\n",
       "      dtype='object')"
      ]
     },
     "execution_count": 9,
     "metadata": {},
     "output_type": "execute_result"
    }
   ],
   "source": [
    "test.columns"
   ]
  },
  {
   "cell_type": "markdown",
   "id": "be97c530",
   "metadata": {},
   "source": [
    "### 입력과 출력 지정"
   ]
  },
  {
   "cell_type": "code",
   "execution_count": 17,
   "id": "c339a626",
   "metadata": {},
   "outputs": [],
   "source": [
    "input_col = ['weather', 'temp']\n",
    "labeled_col = ['count']\n",
    "\n",
    "X = tr[input_col]\n",
    "y = tr[labeled_col]\n",
    "X_val = test[input_col]"
   ]
  },
  {
   "cell_type": "code",
   "execution_count": 18,
   "id": "da6ac0e9",
   "metadata": {},
   "outputs": [],
   "source": [
    "from sklearn.model_selection import train_test_split"
   ]
  },
  {
   "cell_type": "code",
   "execution_count": 19,
   "id": "b39fdd7c",
   "metadata": {},
   "outputs": [],
   "source": [
    "## 자체 학습, 자체 평가\n",
    "X_train, X_test, y_train, y_test = train_test_split(X, y, \n",
    "                                        random_state=0)"
   ]
  },
  {
   "cell_type": "code",
   "execution_count": null,
   "id": "5952120d",
   "metadata": {},
   "outputs": [],
   "source": [
    "from tensorflow.keras.model import Sequential\n",
    "from keras.layers import Dense"
   ]
  },
  {
   "cell_type": "code",
   "execution_count": null,
   "id": "92708fd4",
   "metadata": {},
   "outputs": [],
   "source": []
  },
  {
   "cell_type": "code",
   "execution_count": null,
   "id": "bfed09d1",
   "metadata": {},
   "outputs": [],
   "source": []
  },
  {
   "cell_type": "code",
   "execution_count": null,
   "id": "47c4f31a",
   "metadata": {},
   "outputs": [],
   "source": []
  },
  {
   "cell_type": "code",
   "execution_count": null,
   "id": "34654bb4",
   "metadata": {},
   "outputs": [],
   "source": []
  },
  {
   "cell_type": "code",
   "execution_count": null,
   "id": "ba88fa2c",
   "metadata": {},
   "outputs": [],
   "source": []
  },
  {
   "cell_type": "code",
   "execution_count": null,
   "id": "d05fe5a8",
   "metadata": {},
   "outputs": [],
   "source": []
  }
 ],
 "metadata": {
  "kernelspec": {
   "display_name": "Python 3 (ipykernel)",
   "language": "python",
   "name": "python3"
  },
  "language_info": {
   "codemirror_mode": {
    "name": "ipython",
    "version": 3
   },
   "file_extension": ".py",
   "mimetype": "text/x-python",
   "name": "python",
   "nbconvert_exporter": "python",
   "pygments_lexer": "ipython3",
   "version": "3.8.13"
  }
 },
 "nbformat": 4,
 "nbformat_minor": 5
}
